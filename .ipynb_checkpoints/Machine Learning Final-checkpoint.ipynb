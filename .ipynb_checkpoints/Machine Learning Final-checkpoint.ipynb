{
 "cells": [
  {
   "cell_type": "code",
   "execution_count": 107,
   "metadata": {},
   "outputs": [],
   "source": [
    "from collections import defaultdict\n",
    "import itertools\n",
    "import string\n",
    "import pandas as pd\n",
    "import numpy as np\n",
    "import copy\n",
    "import random\n",
    "import time\n",
    "\n",
    "class Tower:\n",
    "    def __init__(self, pegs, discs, state=None):\n",
    "        self.pegs = pegs\n",
    "        self.discs = discs\n",
    "        self.start_discs = [i + 1 for i in range(discs)]\n",
    "        pegs = [string.ascii_uppercase[i] for i in range(pegs)]\n",
    "        self.test = pegs\n",
    "        self.board = {key:[] for key in pegs}\n",
    "        self.board[pegs[0]] = self.start_discs\n",
    "        self.start_discs = pegs\n",
    "        if state != None:\n",
    "            self.board = state\n",
    "        \n",
    "    def check(self):\n",
    "        print(self.board)\n",
    "        \n",
    "    def valid(self, start, end):\n",
    "        \"\"\"\n",
    "        Helper function to check for valid moves\n",
    "        \"\"\"\n",
    "        if self.board[start] == []:\n",
    "            return False\n",
    "        elif self.board[end] == []:\n",
    "            return True\n",
    "        elif self.board[start][0] < self.board[end][0]:\n",
    "            return True\n",
    "        else:\n",
    "            return False\n",
    "        \n",
    "    def solved(self):\n",
    "        last = string.ascii_uppercase[self.pegs - 1]\n",
    "        if len(self.board[last]) == self.discs:\n",
    "            return True\n",
    "        else:\n",
    "            return False\n",
    "        \n",
    "    def move(self, start, end):\n",
    "        \"\"\"\n",
    "        Moves the discs from one peg to another\n",
    "        \"\"\"\n",
    "        print(\"   \", self.board[start], self.board[end])\n",
    "        if self.valid(start,end):\n",
    "            disc = self.board[start].pop(0)\n",
    "            self.board[end].insert(0, disc)\n",
    "        else:\n",
    "#            print(\"Invalid move\")\n",
    "            return False\n",
    "        if self.solved():\n",
    "            print(\"You Win!\")\n",
    "            self.check()\n",
    "        return True\n",
    "    \n",
    "    def move_explore(self, start, end):\n",
    "        \"\"\"\n",
    "        Moves the discs from one peg to another\n",
    "        \"\"\"\n",
    "        if self.valid(start,end):\n",
    "            board = copy.deepcopy(self.board)\n",
    "            disc = board[start].pop(0)\n",
    "            board[end].insert(0, disc)\n",
    "            return board\n",
    "        else:\n",
    "            return False\n",
    "            \n",
    "    def make_states(self):\n",
    "        states = list(itertools.product(list(range(self.pegs)), repeat=self.discs))\n",
    "        all_states = []\n",
    "        for i in states:\n",
    "            temp = [[] for x in range(self.pegs)]\n",
    "            disc = self.discs\n",
    "            for j in i:\n",
    "                temp[j].insert(0, disc)\n",
    "                disc -= 1\n",
    "            z = list(zip(self.test, [k for k in temp]))\n",
    "            state = defaultdict(list)\n",
    "            for key, value in z:\n",
    "                state[key] = value\n",
    "            all_states.append(state)\n",
    "        return all_states\n",
    "          \n",
    "    def make_moves(self):\n",
    "        moves = list(itertools.permutations(self.start_discs, 2))\n",
    "        return moves\n",
    "    \n",
    "    def make_state_space(self):\n",
    "        moves = self.make_moves()\n",
    "        states = self.make_states()\n",
    "        total = 0\n",
    "        keys = []\n",
    "        for d in states:\n",
    "            keys.append(tuple(tuple(v) for v in d.values()))\n",
    "        rewards = pd.DataFrame(index=keys, columns=keys, data= -np.inf)\n",
    "        for state in states:\n",
    "            for move in moves:\n",
    "                start = copy.deepcopy(tuple(tuple(i) for i in state.values()))\n",
    "                explore = Tower(self.pegs, self.discs, state)\n",
    "                check = explore.valid(move[0],move[1])\n",
    "                if check:\n",
    "                    end = explore.move_explore(move[0],move[1])\n",
    "                    end = tuple(tuple(i) for i in end.values())\n",
    "                    if explore.solved():\n",
    "                        rewards[start][end] = 100\n",
    "                    else:\n",
    "                        rewards[start][end] = 0\n",
    "        return rewards\n",
    "                "
   ]
  },
  {
   "cell_type": "code",
   "execution_count": 108,
   "metadata": {},
   "outputs": [],
   "source": [
    "test = Tower(3, 4)\n",
    "#test.check()\n",
    "#test.move('A',\"C\")\n",
    "#test.move('A',\"B\")\n",
    "#test.move('C',\"B\")\n",
    "#test.move('A',\"C\")\n",
    "#test.move('B',\"A\")\n",
    "#test.move('B',\"C\")\n",
    "#test.move('A',\"C\")\n",
    "R = test.make_state_space()"
   ]
  },
  {
   "cell_type": "code",
   "execution_count": 109,
   "metadata": {},
   "outputs": [],
   "source": [
    "#states=list(range(R.shape[0]))\n",
    "#Q = np.zeros(R.shape)\n",
    "#states = R.columns"
   ]
  },
  {
   "cell_type": "code",
   "execution_count": 110,
   "metadata": {},
   "outputs": [],
   "source": [
    "def learning(R, alpha, gamma, episodes):\n",
    "    states=list(range(R.shape[0]))\n",
    "    Q = np.zeros(R.shape)\n",
    "    states = R.columns\n",
    "    episodes = 0\n",
    "    while np.max(Q[0]) == 0:\n",
    "#    for x in range(episodes):\n",
    "        episodes += 1\n",
    "        state = np.random.choice(states) # random starting state\n",
    "        next_states = np.where(R[state] >= 0)[0] # the index of the states that are not zero\n",
    "        next_state = np.random.choice(next_states) # the index to the state \n",
    "        future = np.max(Q[next_state,:])\n",
    "        start_state = list(states).index(state) # index of the start state\n",
    "        nex = states[next_state]\n",
    "        Q[start_state, next_state] = (1-alpha)*Q[start_state,next_state] + alpha*(R[nex][state] + gamma*future)\n",
    "    print(np.max(Q[0]))\n",
    "    Q /= np.max(Q)\n",
    "    print(episodes)\n",
    "    return Q"
   ]
  },
  {
   "cell_type": "code",
   "execution_count": 111,
   "metadata": {},
   "outputs": [],
   "source": [
    "def learning2(R, alpha, gamma, epsilon, trials=1):\n",
    "    states=list(range(R.shape[0]))\n",
    "    Q = np.zeros(R.shape)\n",
    "    states = R.columns\n",
    "    episodes = 0\n",
    "    nex = states[0]\n",
    "    while np.max(Q[0]) == 0 or episodes < trials:\n",
    "        state = states[0]\n",
    "        episodes += 1\n",
    "        while (state != states[-1]):\n",
    "            next_states = np.where(R[state] >= 0)[0] # the index of the states that are not -inf\n",
    "            start_state = list(states).index(state) # index of the start state\n",
    "            if random.random() > epsilon or (np.argmax(Q[start_state]) <= 0):\n",
    "                next_state = np.random.choice(next_states) # the index to the state\n",
    "            else:\n",
    "                np.argmax(Q[start_state])\n",
    "            future = np.max(Q[next_state,:])\n",
    "            nex = states[next_state] # end state \n",
    "            Q[start_state, next_state] = (1-alpha)*Q[start_state,next_state] + alpha*(R[nex][state] + gamma*future)\n",
    "            state = nex\n",
    "    Q /= np.max(Q)\n",
    "    return Q, episodes"
   ]
  },
  {
   "cell_type": "code",
   "execution_count": 112,
   "metadata": {},
   "outputs": [],
   "source": [
    "#Q = learning(R, .9, .8, 1000)\n",
    "#Q, _ = learning2(R, .5, .5, .1)\n",
    "#print(len(Q)**2)\n",
    "#count = 0\n",
    "#for i in Q:\n",
    "#    for j in i:\n",
    "#        if j > 0:\n",
    "#            count += 1\n",
    "#print(count)"
   ]
  },
  {
   "cell_type": "code",
   "execution_count": 113,
   "metadata": {},
   "outputs": [],
   "source": [
    "def get_policy(Q, R):\n",
    "    policy = []\n",
    "    for i in range(Q.shape[0]):\n",
    "        row = Q[i,:]\n",
    "        sorted_vals = np.sort(row)\n",
    "        sorted_vals = sorted_vals[~np.isnan(sorted_vals)][::-1]\n",
    "        sorted_args = row.argsort()[np.where(~np.isnan(sorted_vals))][::-1]\n",
    "        max_vals = [val for val in sorted_vals if val==sorted_vals[0]]\n",
    "        max_args = [sorted_args[i] for i,val in enumerate(sorted_vals) if val==sorted_vals[0]]\n",
    "        policy.append(max_args)\n",
    "    return policy"
   ]
  },
  {
   "cell_type": "code",
   "execution_count": 114,
   "metadata": {},
   "outputs": [],
   "source": [
    "policy = get_policy(Q,R)\n"
   ]
  },
  {
   "cell_type": "code",
   "execution_count": 115,
   "metadata": {},
   "outputs": [
    {
     "data": {
      "text/plain": [
       "11"
      ]
     },
     "execution_count": 115,
     "metadata": {},
     "output_type": "execute_result"
    }
   ],
   "source": [
    "def play(policy):\n",
    "    start_state = 0\n",
    "    end_state = len(policy)-1\n",
    "    state = start_state\n",
    "    moves = 0\n",
    "    while state != end_state:\n",
    "        state = np.random.choice(policy[state])\n",
    "#        print(R.columns[state])\n",
    "        moves += 1\n",
    "    return moves\n",
    "#print(play(policy))\n",
    "play(policy)"
   ]
  },
  {
   "cell_type": "code",
   "execution_count": 116,
   "metadata": {},
   "outputs": [
    {
     "name": "stdout",
     "output_type": "stream",
     "text": [
      "16.42 8.02\n",
      "16.32 7.66\n",
      "16.62 7.82\n",
      "16.56 7.8\n",
      "16.82 7.48\n",
      "16.76 7.52\n",
      "17.54 7.72\n",
      "16.76 7.7\n",
      "16.8 7.68\n",
      "17.72 7.38\n",
      "17.48 7.88\n",
      "16.58 7.94\n",
      "16.76 8.18\n",
      "16.88 7.88\n",
      "16.78 7.7\n",
      "16.7 7.72\n",
      "16.64 8.24\n",
      "16.02 7.54\n"
     ]
    }
   ],
   "source": [
    "def time_algorithm(algorithm, R, a, g, e, t):\n",
    "    episodes = 0\n",
    "    moves = 0\n",
    "    for x in range(50):\n",
    "        Q, E = algorithm(R, a,g,e,t)\n",
    "        policy = get_policy(Q, R)\n",
    "        moves += play(policy)\n",
    "        episodes += E\n",
    "    return (moves / 50, episodes / 50)\n",
    "\n",
    "#alpha_test = []\n",
    "#for i in range(18):\n",
    "#    x, y = (time_algorithm(learning2, R, .05 * (i + 1), .9, .1 , 1))\n",
    "#    print(x, y)\n",
    "#    alpha_test.append((x,y))"
   ]
  },
  {
   "cell_type": "code",
   "execution_count": 117,
   "metadata": {},
   "outputs": [
    {
     "name": "stdout",
     "output_type": "stream",
     "text": [
      "16.5 7.92\n",
      "15.38 7.54\n",
      "16.16 8.06\n",
      "15.7 8.1\n",
      "16.44 8.22\n",
      "16.26 7.8\n",
      "15.72 7.72\n",
      "15.46 7.9\n",
      "15.82 7.28\n",
      "15.32 7.8\n",
      "16.08 8.16\n",
      "15.68 7.68\n",
      "15.86 8.08\n",
      "16.04 7.68\n",
      "15.52 7.98\n",
      "16.54 8.12\n",
      "17.2 8.04\n",
      "15.88 7.92\n"
     ]
    }
   ],
   "source": [
    "#gamma_test = []\n",
    "#for i in range(18):\n",
    "#    x, y = (time_algorithm(learning2, R, .9, .05 * (i + 1), .1 , 1))\n",
    "#    print(x, y)\n",
    "#    gamma_test.append((x,y))"
   ]
  },
  {
   "cell_type": "code",
   "execution_count": 118,
   "metadata": {},
   "outputs": [
    {
     "name": "stdout",
     "output_type": "stream",
     "text": [
      "16.84 7.64\n",
      "17.04 7.34\n",
      "16.66 8.3\n",
      "16.76 7.18\n",
      "16.14 7.86\n",
      "16.52 7.92\n",
      "16.32 7.84\n",
      "16.16 7.84\n",
      "15.76 7.86\n",
      "15.84 7.54\n",
      "16.74 7.8\n",
      "15.56 7.88\n",
      "16.46 7.2\n",
      "16.1 7.94\n",
      "16.26 8.4\n",
      "16.24 8.16\n",
      "16.78 7.98\n",
      "16.08 8.12\n",
      "16.74 8.16\n",
      "16.6 7.8\n"
     ]
    }
   ],
   "source": [
    "#epsilon_test = []\n",
    "#for i in range(20):\n",
    "#    x, y = (time_algorithm(learning2, R, .9, .9, .05 * i , 1))\n",
    "#    print(x, y)\n",
    "#    epsilon_test.append((x,y))"
   ]
  },
  {
   "cell_type": "code",
   "execution_count": 119,
   "metadata": {},
   "outputs": [
    {
     "name": "stdout",
     "output_type": "stream",
     "text": [
      "16.84 7.52\n",
      "16.08 7.54\n",
      "16.3 7.64\n",
      "16.0 7.7\n",
      "15.98 8.5\n",
      "16.72 7.88\n",
      "16.16 7.98\n",
      "16.28 7.92\n",
      "15.52 8.48\n",
      "15.36 9.36\n",
      "15.32 10.12\n",
      "15.12 11.12\n",
      "15.16 12.08\n",
      "15.34 13.02\n",
      "15.0 14.0\n",
      "15.02 15.0\n",
      "15.0 16.0\n",
      "15.0 17.0\n",
      "15.0 18.0\n",
      "15.0 19.0\n",
      "15.0 20.0\n",
      "15.0 21.0\n",
      "15.0 22.0\n",
      "15.0 23.0\n",
      "15.0 24.0\n",
      "15.0 25.0\n",
      "15.0 26.0\n",
      "15.0 27.0\n",
      "15.0 28.0\n",
      "15.0 29.0\n",
      "15.98 7.46\n",
      "16.44 7.68\n",
      "15.3 7.74\n",
      "16.44 7.86\n",
      "16.6 8.08\n",
      "15.88 7.98\n",
      "16.8 8.06\n",
      "16.14 8.66\n",
      "16.34 8.92\n",
      "16.16 9.36\n",
      "16.42 10.12\n",
      "15.94 11.22\n",
      "16.1 12.02\n",
      "16.34 13.0\n",
      "16.14 14.0\n",
      "16.0 15.0\n",
      "15.58 16.0\n",
      "15.84 17.0\n",
      "15.56 18.0\n",
      "16.02 19.0\n",
      "15.64 20.0\n",
      "15.94 21.0\n",
      "15.62 22.0\n",
      "15.68 23.0\n",
      "15.52 24.0\n",
      "16.04 25.0\n",
      "15.42 26.0\n",
      "15.26 27.0\n",
      "15.84 28.0\n",
      "15.18 29.0\n"
     ]
    }
   ],
   "source": [
    "#episode_test1 = []\n",
    "#episode_test2 = []\n",
    "#for i in range(30):\n",
    "#    x, y = (time_algorithm(learning2, R, .9, .9, .1, i))\n",
    "#    print(x, y)\n",
    "#    episode_test1.append((x,y))\n",
    "#    \n",
    "#for i in range(30):\n",
    "#    x, y = (time_algorithm(learning2, R, .9, .9, .9, i))\n",
    "#    print(x, y)\n",
    "#    episode_test2.append((x,y))"
   ]
  },
  {
   "cell_type": "code",
   "execution_count": 144,
   "metadata": {},
   "outputs": [
    {
     "data": {
      "image/png": "[encoded data removed]",
      "text/plain": [
       "<Figure size 432x288 with 1 Axes>"
      ]
     },
     "metadata": {
      "needs_background": "light"
     },
     "output_type": "display_data"
    }
   ],
   "source": [
    "import matplotlib.pyplot as plt\n",
    "\n",
    "test = alpha_test\n",
    "test2 = alpha_test2\n",
    "\n",
    "plt.figure()\n",
    "lw = 2\n",
    "plt.plot([(i+1) * .05 for i in range(len(test))], [j for j,_ in test], color='darkorange',\n",
    "         lw=lw, label='Alpha with variable episodes')\n",
    "plt.plot([(i+1) * .05 for i in range(len(test))], [j for j,_ in test2], color='blue',\n",
    "         lw=lw, label='Alpha with min 10 episodes')\n",
    "plt.xlabel('Alpha')\n",
    "plt.ylabel('Average Moves to Solve')\n",
    "plt.title('Alpha Graph')\n",
    "plt.legend(loc=\"lower center\")\n",
    "plt.show()\n"
   ]
  },
  {
   "cell_type": "code",
   "execution_count": 138,
   "metadata": {},
   "outputs": [
    {
     "data": {
      "image/png": "[encoded data removed]",
      "text/plain": [
       "<Figure size 432x288 with 1 Axes>"
      ]
     },
     "metadata": {
      "needs_background": "light"
     },
     "output_type": "display_data"
    }
   ],
   "source": [
    "import matplotlib.pyplot as plt\n",
    "\n",
    "test = gamma_test\n",
    "test2 = gamma_test2\n",
    "\n",
    "plt.figure()\n",
    "lw = 2\n",
    "plt.plot([(i+1) * .05 for i in range(len(test))], [j for j,_ in test], color='darkorange',\n",
    "         lw=lw, label='Moves with increasing Gamma')\n",
    "plt.plot([(i+1) * .05 for i in range(len(test))], [j for j,_ in test2], color='blue',\n",
    "         lw=lw, label='Gamma with min 10 episodes')\n",
    "plt.xlabel('Gamma')\n",
    "plt.ylabel('Average Moves to Solve')\n",
    "plt.title('Gamma Graph')\n",
    "plt.legend(loc=\"upper left\")\n",
    "plt.show()\n"
   ]
  },
  {
   "cell_type": "code",
   "execution_count": 146,
   "metadata": {},
   "outputs": [
    {
     "data": {
      "image/png": "[encoded data removed]",
      "text/plain": [
       "<Figure size 432x288 with 1 Axes>"
      ]
     },
     "metadata": {
      "needs_background": "light"
     },
     "output_type": "display_data"
    }
   ],
   "source": [
    "import matplotlib.pyplot as plt\n",
    "\n",
    "test = epsilon_test\n",
    "test2 = epsilon_test2\n",
    "\n",
    "plt.figure()\n",
    "lw = 2\n",
    "plt.plot([i * .05 for i in range(len(test))], [j for j,_ in test], color='darkorange',\n",
    "         lw=lw, label='Epsilon with variable episodes')\n",
    "plt.plot([i * .05 for i in range(len(test2))], [j for j,_ in test2], color='blue',\n",
    "         lw=lw, label='Epsilon with min 10 episodes')\n",
    "plt.xlabel('Epsilon')\n",
    "plt.ylabel('Average Moves to Solve')\n",
    "plt.title('Epsilon Graph')\n",
    "plt.legend(loc=\"lower right\")\n",
    "plt.show()\n"
   ]
  },
  {
   "cell_type": "code",
   "execution_count": 128,
   "metadata": {},
   "outputs": [
    {
     "data": {
      "image/png": "[encoded data removed]",
      "text/plain": [
       "<Figure size 432x288 with 1 Axes>"
      ]
     },
     "metadata": {
      "needs_background": "light"
     },
     "output_type": "display_data"
    }
   ],
   "source": [
    "import matplotlib.pyplot as plt\n",
    "\n",
    "test1 = sorted(episode_test1, key=lambda tup: tup[1])\n",
    "test2 = sorted(episode_test2, key=lambda tup: tup[1])\n",
    "#test1 = episode_test1\n",
    "#test2 = episode_test2\n",
    "\n",
    "plt.figure()\n",
    "lw = 2\n",
    "plt.plot([i for _,i in test1], [j for j,_ in test1], color='darkorange',\n",
    "         lw=lw, label='Epsilon = .1')\n",
    "plt.plot([i for _,i in test2], [j for j,_ in test2], color='blue',\n",
    "         lw=lw, label='Epsilon = .9')\n",
    "plt.xlabel('Episodes')\n",
    "plt.ylabel('Average Moves to Solve')\n",
    "plt.title('Episodes Graph')\n",
    "plt.legend(loc=\"upper right\")\n",
    "plt.show()"
   ]
  },
  {
   "cell_type": "code",
   "execution_count": 129,
   "metadata": {},
   "outputs": [
    {
     "name": "stdout",
     "output_type": "stream",
     "text": [
      "15.28 10.04\n",
      "15.8 10.26\n",
      "15.68 10.26\n",
      "15.7 10.4\n",
      "16.14 10.28\n",
      "16.02 10.32\n",
      "16.42 10.16\n",
      "15.94 10.14\n",
      "16.58 10.28\n",
      "16.9 10.12\n",
      "16.48 10.32\n",
      "16.28 10.22\n",
      "16.08 10.22\n",
      "15.88 10.14\n",
      "15.84 10.22\n",
      "16.1 10.26\n",
      "15.12 10.08\n",
      "15.4 10.18\n"
     ]
    }
   ],
   "source": [
    "alpha_test2 = []\n",
    "for i in range(18):\n",
    "    x, y = (time_algorithm(learning2, R, .05 * (i + 1), .9, .1 , 10))\n",
    "    print(x, y)\n",
    "    alpha_test2.append((x,y))"
   ]
  },
  {
   "cell_type": "code",
   "execution_count": 130,
   "metadata": {},
   "outputs": [
    {
     "name": "stdout",
     "output_type": "stream",
     "text": [
      "15.5 10.12\n",
      "15.42 10.2\n",
      "15.18 10.28\n",
      "15.3 10.24\n",
      "15.44 10.02\n",
      "15.16 10.36\n",
      "15.26 10.32\n",
      "15.32 10.2\n",
      "15.14 10.58\n",
      "15.14 10.22\n",
      "15.36 10.16\n",
      "15.56 10.28\n",
      "15.28 10.2\n",
      "15.52 10.16\n",
      "15.54 10.2\n",
      "15.1 10.18\n",
      "15.6 10.24\n",
      "15.6 10.24\n"
     ]
    }
   ],
   "source": [
    "gamma_test2 = []\n",
    "for i in range(18):\n",
    "    x, y = (time_algorithm(learning2, R, .9, .05 * (i + 1), .1 , 10))\n",
    "    print(x, y)\n",
    "    gamma_test2.append((x,y))"
   ]
  },
  {
   "cell_type": "code",
   "execution_count": 135,
   "metadata": {},
   "outputs": [
    {
     "name": "stdout",
     "output_type": "stream",
     "text": [
      "15.56 10.36\n",
      "15.9 10.18\n",
      "15.5 10.26\n",
      "15.48 10.26\n",
      "15.32 10.24\n",
      "15.1 10.06\n",
      "15.74 10.42\n",
      "15.34 10.24\n",
      "15.62 10.14\n",
      "15.6 10.36\n",
      "15.6 10.22\n",
      "16.3 10.24\n",
      "15.58 10.04\n",
      "15.94 10.06\n",
      "15.8 10.2\n",
      "16.12 10.16\n",
      "15.5 10.26\n",
      "16.66 10.2\n",
      "16.1 10.06\n",
      "16.92 10.12\n"
     ]
    }
   ],
   "source": [
    "epsilon_test2 = []\n",
    "for i in range(20):\n",
    "    x, y = (time_algorithm(learning2, R, .9, .9, .05 * i , 10))\n",
    "    print(x, y)\n",
    "    epsilon_test2.append((x,y))"
   ]
  },
  {
   "cell_type": "code",
   "execution_count": null,
   "metadata": {},
   "outputs": [],
   "source": []
  }
 ],
 "metadata": {
  "kernelspec": {
   "display_name": "Python 3",
   "language": "python",
   "name": "python3"
  },
  "language_info": {
   "codemirror_mode": {
    "name": "ipython",
    "version": 3
   },
   "file_extension": ".py",
   "mimetype": "text/x-python",
   "name": "python",
   "nbconvert_exporter": "python",
   "pygments_lexer": "ipython3",
   "version": "3.5.2"
  }
 },
 "nbformat": 4,
 "nbformat_minor": 2
}
